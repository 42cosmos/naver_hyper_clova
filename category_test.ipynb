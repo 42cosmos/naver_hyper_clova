{
 "cells": [
  {
   "cell_type": "code",
   "execution_count": 1,
   "id": "38a11222",
   "metadata": {},
   "outputs": [],
   "source": [
    "# -*- coding: utf-8 -*-\n",
    "import collections\n",
    "from naver_ai import NaverAI \n",
    "\n",
    "naver = NaverAI()"
   ]
  },
  {
   "cell_type": "code",
   "execution_count": 2,
   "id": "54b79f28",
   "metadata": {},
   "outputs": [],
   "source": [
    "request_data = {\n",
    "    \"maxTokens\": 32,\n",
    "    \"temperature\": 0.5,\n",
    "    \"topK\": 0,\n",
    "    \"topP\": 0.8,\n",
    "    \"repeatPenalty\": 5.0,\n",
    "    \"restart\": \"\",\n",
    "    \"includeTokens\": True,\n",
    "    \"includeAiFilters\": True,\n",
    "    \"includeProbs\": False\n",
    "}"
   ]
  },
  {
   "cell_type": "code",
   "execution_count": 9,
   "id": "85deb262",
   "metadata": {},
   "outputs": [],
   "source": [
    "keys = [\"text\", \"start\", \"stopBefore\", \"restart\"]\n",
    "\n",
    "def make_content(original_dict: dict, keys: list=keys, *args):\n",
    "    text_gen_req = {key: value for key, value in zip(keys, *args)}\n",
    "    return dict(collections.ChainMap(original_dict, text_gen_req))"
   ]
  },
  {
   "cell_type": "markdown",
   "id": "0b594ea4",
   "metadata": {},
   "source": [
    "## Text Generation"
   ]
  },
  {
   "cell_type": "code",
   "execution_count": 10,
   "id": "cd5dc809",
   "metadata": {},
   "outputs": [],
   "source": [
    "preset_text = \"한국어: 사과\\n영어: Apple\\n한국어: 바나나\"\n",
    "start = \"\\n영어\"\n",
    "stopBefore = [\"\\n한국어\"]\n",
    "\n",
    "text_gen_req = make_content(request_data, keys, [preset_text, start, stopBefore])"
   ]
  },
  {
   "cell_type": "code",
   "execution_count": 11,
   "id": "209f1ac7",
   "metadata": {},
   "outputs": [
    {
     "data": {
      "text/plain": [
       "{'status': {'code': '20000', 'message': 'OK', 'messageVariables': {}},\n",
       " 'result': {'aiFilter': [{'groupName': 'curse',\n",
       "    'name': 'insult',\n",
       "    'score': '2'},\n",
       "   {'groupName': 'curse', 'name': 'discrimination', 'score': '2'},\n",
       "   {'groupName': 'unsafeContents', 'name': 'sexualHarassment', 'score': '2'}],\n",
       "  'text': '한국어: 사과\\n영어: Apple\\n한국어: 바나나\\n영어: Banana',\n",
       "  'stopReason': 'stop_before',\n",
       "  'inputLength': 15,\n",
       "  'outputLength': 7,\n",
       "  'inputTokens': ['한국',\n",
       "   '어',\n",
       "   ':',\n",
       "   ' 사과',\n",
       "   '\\n',\n",
       "   '영어',\n",
       "   ':',\n",
       "   ' Apple',\n",
       "   '\\n',\n",
       "   '한국',\n",
       "   '어',\n",
       "   ':',\n",
       "   ' 바나나',\n",
       "   '\\n',\n",
       "   '영어'],\n",
       "  'outputTokens': [':', ' B', 'an', 'ana', '\\n', '한국', '어'],\n",
       "  'probs': [],\n",
       "  'ok': True}}"
      ]
     },
     "execution_count": 11,
     "metadata": {},
     "output_type": "execute_result"
    }
   ],
   "source": [
    "generation_result = naver.execute(text_gen_req)\n",
    "generation_result"
   ]
  },
  {
   "cell_type": "code",
   "execution_count": null,
   "id": "80adee36",
   "metadata": {},
   "outputs": [],
   "source": []
  },
  {
   "cell_type": "markdown",
   "id": "a410e0bb",
   "metadata": {},
   "source": [
    "## Transformation"
   ]
  },
  {
   "cell_type": "code",
   "execution_count": 12,
   "id": "67c029e0",
   "metadata": {},
   "outputs": [],
   "source": [
    "preset_text = '입력한 문장의 틀린 문법을 올바른 문장으로 변환합니다.\\n###\\n문장: 너랑 걔네들은 다르잖아. 너대로 하면되\\n교정: 너랑 걔네들은 다르잖아. 너대로 하면 돼\\n###\\n문장: 이런식으로 행동하면 어떻게?\\n교정: 이런 식으로 행동하면 어떡해?\\n###\\n문장: 이제 됬어요?\\n교정: 이제 됐어요?\\n###\\n문장: 않돼 그러지마\\n교정: 안 돼 그러지 마\\n###\\n문장: 그건 동물이예요\\n'\n",
    "start = \"\\n교정\"\n",
    "restart = \"\\n###\\n문장:\"\n",
    "stopBefore = ['###', '문장:', '교정:', '###\\n']"
   ]
  },
  {
   "cell_type": "code",
   "execution_count": 13,
   "id": "32e02cd2",
   "metadata": {},
   "outputs": [],
   "source": [
    "transform_req = make_content(request_data, keys, [preset_text, start, stopBefore, restart])"
   ]
  },
  {
   "cell_type": "code",
   "execution_count": 16,
   "id": "0e2bfbcb",
   "metadata": {
    "scrolled": true
   },
   "outputs": [
    {
     "data": {
      "text/plain": [
       "{'status': {'code': '20000', 'message': 'OK', 'messageVariables': {}},\n",
       " 'result': {'aiFilter': [{'groupName': 'curse',\n",
       "    'name': 'insult',\n",
       "    'score': '2'},\n",
       "   {'groupName': 'curse', 'name': 'discrimination', 'score': '2'},\n",
       "   {'groupName': 'unsafeContents', 'name': 'sexualHarassment', 'score': '2'}],\n",
       "  'text': '입력한 문장의 틀린 문법을 올바른 문장으로 변환합니다.\\n###\\n문장: 너랑 걔네들은 다르잖아. 너대로 하면되\\n교정: 너랑 걔네들은 다르잖아. 너대로 하면 돼\\n###\\n문장: 이런식으로 행동하면 어떻게?\\n교정: 이런 식으로 행동하면 어떡해?\\n###\\n문장: 이제 됬어요?\\n교정: 이제 됐어요?\\n###\\n문장: 않돼 그러지마\\n교정: 안 돼 그러지 마\\n###\\n문장: 그건 동물이예요\\n\\n교정: 그건 동물이에요\\n',\n",
       "  'stopReason': 'stop_before',\n",
       "  'inputLength': 115,\n",
       "  'outputLength': 7,\n",
       "  'inputTokens': ['입력',\n",
       "   '한',\n",
       "   ' 문장',\n",
       "   '의',\n",
       "   ' 틀린',\n",
       "   ' 문법',\n",
       "   '을',\n",
       "   ' 올바른',\n",
       "   ' 문장',\n",
       "   '으로',\n",
       "   ' 변환',\n",
       "   '합니다',\n",
       "   '.',\n",
       "   '\\n',\n",
       "   '##',\n",
       "   '#',\n",
       "   '\\n',\n",
       "   '문장',\n",
       "   ':',\n",
       "   ' 너',\n",
       "   '랑',\n",
       "   ' 걔',\n",
       "   '네',\n",
       "   '들은',\n",
       "   ' 다르',\n",
       "   '잖아',\n",
       "   '.',\n",
       "   ' 너',\n",
       "   '대로',\n",
       "   ' 하면',\n",
       "   '되',\n",
       "   '\\n',\n",
       "   '교정',\n",
       "   ':',\n",
       "   ' 너',\n",
       "   '랑',\n",
       "   ' 걔',\n",
       "   '네',\n",
       "   '들은',\n",
       "   ' 다르',\n",
       "   '잖아',\n",
       "   '.',\n",
       "   ' 너',\n",
       "   '대로',\n",
       "   ' 하면',\n",
       "   ' 돼',\n",
       "   '\\n',\n",
       "   '##',\n",
       "   '#',\n",
       "   '\\n',\n",
       "   '문장',\n",
       "   ':',\n",
       "   ' 이런',\n",
       "   '식',\n",
       "   '으로',\n",
       "   ' 행동',\n",
       "   '하면',\n",
       "   ' 어떻게',\n",
       "   '?',\n",
       "   '\\n',\n",
       "   '교정',\n",
       "   ':',\n",
       "   ' 이런',\n",
       "   ' 식',\n",
       "   '으로',\n",
       "   ' 행동',\n",
       "   '하면',\n",
       "   ' 어떡해',\n",
       "   '?',\n",
       "   '\\n',\n",
       "   '##',\n",
       "   '#',\n",
       "   '\\n',\n",
       "   '문장',\n",
       "   ':',\n",
       "   ' 이제',\n",
       "   ' 됬',\n",
       "   '어요',\n",
       "   '?',\n",
       "   '\\n',\n",
       "   '교정',\n",
       "   ':',\n",
       "   ' 이제',\n",
       "   ' 됐',\n",
       "   '어요',\n",
       "   '?',\n",
       "   '\\n',\n",
       "   '##',\n",
       "   '#',\n",
       "   '\\n',\n",
       "   '문장',\n",
       "   ':',\n",
       "   ' 않',\n",
       "   '돼',\n",
       "   ' 그러지',\n",
       "   '마',\n",
       "   '\\n',\n",
       "   '교정',\n",
       "   ':',\n",
       "   ' 안',\n",
       "   ' 돼',\n",
       "   ' 그러지',\n",
       "   ' 마',\n",
       "   '\\n',\n",
       "   '##',\n",
       "   '#',\n",
       "   '\\n',\n",
       "   '문장',\n",
       "   ':',\n",
       "   ' 그건',\n",
       "   ' 동물',\n",
       "   '이예요',\n",
       "   '\\n',\n",
       "   '\\n',\n",
       "   '교정'],\n",
       "  'outputTokens': [':', ' 그건', ' 동물', '이에요', '\\n', '##', '#'],\n",
       "  'probs': [],\n",
       "  'ok': True}}"
      ]
     },
     "execution_count": 16,
     "metadata": {},
     "output_type": "execute_result"
    }
   ],
   "source": [
    "transform_result = naver.execute(transform_req)\n",
    "transform_result"
   ]
  },
  {
   "cell_type": "code",
   "execution_count": null,
   "id": "155a4848",
   "metadata": {},
   "outputs": [],
   "source": []
  }
 ],
 "metadata": {
  "kernelspec": {
   "display_name": "Python 3 (ipykernel)",
   "language": "python",
   "name": "python3"
  },
  "language_info": {
   "codemirror_mode": {
    "name": "ipython",
    "version": 3
   },
   "file_extension": ".py",
   "mimetype": "text/x-python",
   "name": "python",
   "nbconvert_exporter": "python",
   "pygments_lexer": "ipython3",
   "version": "3.8.11"
  }
 },
 "nbformat": 4,
 "nbformat_minor": 5
}
