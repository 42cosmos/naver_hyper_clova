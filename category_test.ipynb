{
 "cells": [
  {
   "cell_type": "code",
   "execution_count": null,
   "id": "eb70d8ae",
   "metadata": {},
   "outputs": [],
   "source": [
    "# https://guide.ncloud-docs.com/docs/clovastudio-2-2-1#"
   ]
  },
  {
   "cell_type": "code",
   "execution_count": 1,
   "id": "38a11222",
   "metadata": {},
   "outputs": [],
   "source": [
    "# -*- coding: utf-8 -*-\n",
    "import collections\n",
    "from naver_ai import NaverAI \n",
    "\n",
    "naver = NaverAI()"
   ]
  },
  {
   "cell_type": "code",
   "execution_count": 2,
   "id": "54b79f28",
   "metadata": {},
   "outputs": [],
   "source": [
    "request_data = {\n",
    "    \"maxTokens\": 32,\n",
    "    \"temperature\": 0.5,\n",
    "    \"topK\": 0,\n",
    "    \"topP\": 0.8,\n",
    "    \"repeatPenalty\": 5.0,\n",
    "    \"restart\": \"\",\n",
    "    \"includeTokens\": True,\n",
    "    \"includeAiFilters\": True,\n",
    "    \"includeProbs\": False\n",
    "}"
   ]
  },
  {
   "cell_type": "code",
   "execution_count": 9,
   "id": "85deb262",
   "metadata": {},
   "outputs": [],
   "source": [
    "def make_content(original_dict: dict, new_dict: dict):\n",
    "    return dict(collections.ChainMap(original_dict, new_dict))"
   ]
  },
  {
   "cell_type": "markdown",
   "id": "0b594ea4",
   "metadata": {},
   "source": [
    "## Text Generation"
   ]
  },
  {
   "cell_type": "code",
   "execution_count": 4,
   "id": "cd5dc809",
   "metadata": {},
   "outputs": [],
   "source": [
    "preset_text = \"한국어: 사과\\n영어: Apple\\n한국어: 바나나\"\n",
    "start = \"\\n영어\"\n",
    "stopBefore = [\"\\n한국어\"]\n",
    "\n",
    "text_gen_req = make_content(request_data, keys, [preset_text, start, stopBefore])"
   ]
  },
  {
   "cell_type": "code",
   "execution_count": 5,
   "id": "209f1ac7",
   "metadata": {},
   "outputs": [
    {
     "data": {
      "text/plain": [
       "{'status': {'code': '20000', 'message': 'OK', 'messageVariables': {}},\n",
       " 'result': {'aiFilter': [{'groupName': 'curse',\n",
       "    'name': 'insult',\n",
       "    'score': '2'},\n",
       "   {'groupName': 'curse', 'name': 'discrimination', 'score': '2'},\n",
       "   {'groupName': 'unsafeContents', 'name': 'sexualHarassment', 'score': '2'}],\n",
       "  'text': '한국어: 사과\\n영어: Apple\\n한국어: 바나나\\n영어: Banana',\n",
       "  'stopReason': 'stop_before',\n",
       "  'inputLength': 15,\n",
       "  'outputLength': 7,\n",
       "  'inputTokens': ['한국',\n",
       "   '어',\n",
       "   ':',\n",
       "   ' 사과',\n",
       "   '\\n',\n",
       "   '영어',\n",
       "   ':',\n",
       "   ' Apple',\n",
       "   '\\n',\n",
       "   '한국',\n",
       "   '어',\n",
       "   ':',\n",
       "   ' 바나나',\n",
       "   '\\n',\n",
       "   '영어'],\n",
       "  'outputTokens': [':', ' B', 'an', 'ana', '\\n', '한국', '어'],\n",
       "  'probs': [],\n",
       "  'ok': True}}"
      ]
     },
     "execution_count": 5,
     "metadata": {},
     "output_type": "execute_result"
    }
   ],
   "source": [
    "generation_result = naver.execute(text_gen_req)\n",
    "generation_result"
   ]
  },
  {
   "cell_type": "code",
   "execution_count": 54,
   "id": "6a3cbc14",
   "metadata": {},
   "outputs": [],
   "source": [
    "text = \"\"\"문장: 그녀는 이 상황이 부끄러웠다. 그녀가 밖으로 달아났다.\n",
    "묘사: 그녀는 연신 몸을 움찔거리며 주위를 살폈다.\n",
    "그녀의 어깨는 딱딱하게 굳어 위로 솟아 있었고 얼굴은 발갛게 달아올라 있었다.\n",
    "주변의 시선을 의식할 때마다 광활한 광장에 발가벗고 서 있는 듯한 부끄러움이 밀려왔다.\n",
    "방에서 뛰쳐나가고 싶었지만 누군가 다리를 도끼로 내려친 듯이 한 발자국도 움직일 수 없었다.\n",
    "###\n",
    "문장: 사랑에 빠지다.\n",
    "\"\"\"\n",
    "novel_req = {\"text\": text,\n",
    "            \"stopBefore\": [\"###\\n\", \"문장:\", \"묘사:\"],\n",
    "            \"start\": \"\\n묘사:\",\n",
    "            \"restart\": [\"\\n###\", \"\\n문장:\"],\n",
    "            \"maxToken\": 800}\n",
    "\n",
    "novel_req = make_content(request_data, novel_req)"
   ]
  },
  {
   "cell_type": "code",
   "execution_count": 55,
   "id": "c5edf526",
   "metadata": {},
   "outputs": [
    {
     "data": {
      "text/plain": [
       "'문장: 그녀는 이 상황이 부끄러웠다. 그녀가 밖으로 달아났다.\\n묘사: 그녀는 연신 몸을 움찔거리며 주위를 살폈다.\\n그녀의 어깨는 딱딱하게 굳어 위로 솟아 있었고 얼굴은 발갛게 달아올라 있었다.\\n주변의 시선을 의식할 때마다 광활한 광장에 발가벗고 서 있는 듯한 부끄러움이 밀려왔다.\\n방에서 뛰쳐나가고 싶었지만 누군가 다리를 도끼로 내려친 듯이 한 발자국도 움직일 수 없었다.\\n###\\n문장: 사랑에 빠지다.\\n\\n묘사: 그는 마치 자석처럼 그녀에게 끌렸다.\\n그는 자신의 감정을 주체할 수 없어 계속해서 그녀를 따라다녔다.\\n자신과 같은'"
      ]
     },
     "execution_count": 55,
     "metadata": {},
     "output_type": "execute_result"
    }
   ],
   "source": [
    "novel_res = naver.execute(novel_req)\n",
    "novel_res[\"result\"][\"text\"]"
   ]
  },
  {
   "cell_type": "markdown",
   "id": "a410e0bb",
   "metadata": {},
   "source": [
    "## Transformation"
   ]
  },
  {
   "cell_type": "code",
   "execution_count": 63,
   "id": "67c029e0",
   "metadata": {},
   "outputs": [],
   "source": [
    "text = '문장: 너랑 걔네들은 다르잖아. 너대로 하면되\\n교정: 너랑 걔네들은 다르잖아. 너대로 하면 돼\\n'\n",
    "\n",
    "transform_req = {\"text\": text,\n",
    " \"stopBefore\": ['###', '문장:', '교정:', '###\\n'], \n",
    " \"start\": \"\\n교정\",\n",
    " \"restart\": \"\\n###\\n문장:\"}\n",
    "\n",
    "transform_req = make_content(request_data, transform_req)"
   ]
  },
  {
   "cell_type": "code",
   "execution_count": 64,
   "id": "0e2bfbcb",
   "metadata": {
    "scrolled": true
   },
   "outputs": [
    {
     "data": {
      "text/plain": [
       "'문장: 너랑 걔네들은 다르잖아. 너대로 하면되\\n교정: 너랑 걔네들은 다르잖아. 너대로 하면 돼\\n\\n교정: (핸드폰을 들고) 여보세요? 어, 그래. 나야. 응. 알았어. 금방 갈게. 고마워. 아~ 정말 다행이다. 그치?'"
      ]
     },
     "execution_count": 64,
     "metadata": {},
     "output_type": "execute_result"
    }
   ],
   "source": [
    "transform_result = naver.execute(transform_req)\n",
    "transform_result[\"result\"][\"text\"]"
   ]
  },
  {
   "cell_type": "markdown",
   "id": "f65ffdba",
   "metadata": {},
   "source": [
    "## Classification"
   ]
  },
  {
   "cell_type": "code",
   "execution_count": 15,
   "id": "ed15156a",
   "metadata": {},
   "outputs": [],
   "source": [
    "req_contents = {\"text\": '문장: \"기분 진짜 좋다\"\\n감정: 긍정\\n###\\n문장: \"아오 진짜 짜증나게 하네\"\\n감정: 부정\\n###\\n문장: \"하 힘들다 진짜 쉬고싶다\"',\n",
    "                \"start\": \"\\n감정\",\n",
    "                \"stopBefore\": [\"###\", \"문장: \", \"감정:\", \"###\\n\"]}\n",
    "\n",
    "classification_req = make_content(request_data, req_contents)"
   ]
  },
  {
   "cell_type": "code",
   "execution_count": 16,
   "id": "eee27e95",
   "metadata": {},
   "outputs": [],
   "source": [
    "classification_res = naver.execute(classification_req)"
   ]
  },
  {
   "cell_type": "code",
   "execution_count": 19,
   "id": "480e005f",
   "metadata": {},
   "outputs": [
    {
     "data": {
      "text/plain": [
       "'문장: \"기분 진짜 좋다\"\\n감정: 긍정\\n###\\n문장: \"아오 진짜 짜증나게 하네\"\\n감정: 부정\\n###\\n문장: \"하 힘들다 진짜 쉬고싶다\"\\n감정: 부정\\n'"
      ]
     },
     "execution_count": 19,
     "metadata": {},
     "output_type": "execute_result"
    }
   ],
   "source": [
    "classification_res[\"result\"][\"text\"]"
   ]
  },
  {
   "cell_type": "markdown",
   "id": "c3a4738a",
   "metadata": {},
   "source": [
    "## QA "
   ]
  },
  {
   "cell_type": "code",
   "execution_count": 24,
   "id": "daa6c799",
   "metadata": {},
   "outputs": [],
   "source": [
    "text = \"\"\"질문: ESFJ는 문제에 봉착했을때 어떻게 대응하는가?\n",
    "답: 현실적인 해결 방법을 찾기 위해 노력한다.\n",
    "###\n",
    "질문: ISFJ는 연인에게 어떻게 대하는 편인가?\n",
    "답: 섬세하고 다정하게 케어해주는 편이다.\n",
    "####\n",
    "질문: INTP는 사람들이 많은 곳에 가면 어떻게 행동하는가?\n",
    "답: 주변의 상황을 파악하기 위해 관찰하는 편이다.\n",
    "###\n",
    "질문: ESFT는 충동적인 선택을 많이 하는 편인가?\"\"\"\n",
    "\n",
    "req_contents = {\"text\": text,\n",
    "               \"start\": \"\\n답\",\n",
    "                \"stopBefore\": [\"###\", \"질문: \", \"답:\", \"###\\n\"],\n",
    "                \"maxToken\": 50}\n",
    "\n",
    "req_contents = make_content(request_data, req_contents)"
   ]
  },
  {
   "cell_type": "code",
   "execution_count": 26,
   "id": "eed31728",
   "metadata": {},
   "outputs": [
    {
     "data": {
      "text/plain": [
       "'질문: ESFJ는 문제에 봉착했을때 어떻게 대응하는가?\\n답: 현실적인 해결 방법을 찾기 위해 노력한다.\\n###\\n질문: ISFJ는 연인에게 어떻게 대하는 편인가?\\n답: 섬세하고 다정하게 케어해주는 편이다.\\n####\\n질문: INTP는 사람들이 많은 곳에 가면 어떻게 행동하는가?\\n답: 주변의 상황을 파악하기 위해 관찰하는 편이다.\\n###\\n질문: ESFT는 충동적인 선택을 많이 하는 편인가?\\n답: 아니다. 계획적으로 움직이는 편이다.\\n'"
      ]
     },
     "execution_count": 26,
     "metadata": {},
     "output_type": "execute_result"
    }
   ],
   "source": [
    "qa_res = naver.execute(req_contents)\n",
    "qa_res[\"result\"][\"text\"]"
   ]
  },
  {
   "cell_type": "markdown",
   "id": "9d53c0e7",
   "metadata": {},
   "source": [
    "## Summarization"
   ]
  },
  {
   "cell_type": "code",
   "execution_count": 36,
   "id": "a761a8ad",
   "metadata": {},
   "outputs": [],
   "source": [
    "text = \"\"\"줄거리: \"미나리는 어디서든 잘 자라\" 낯선 미국, 아칸소로 떠나온 한국 가족. 가족들에게 뭔가 해내는 걸 보여주고 싶은 아빠 '제이콥'(스티븐 연)은 자신만의 농장을 가꾸기 시작하고 엄마 '모니카'(한예리)도 다시 일자리를 찾는다. 아직 어린 아이들을 위해 ‘모니카’의 엄마 ‘순자’(윤여정)가 함께 살기로 하고 가방 가득 고춧가루, 멸치, 한약 그리고 미나리씨를 담은 할머니가 도착한다. 의젓한 큰딸 '앤'(노엘 케이트 조)과 장난꾸러기 막내아들 '데이빗'(앨런 김)은 여느 그랜마같지 않은 할머니가 영- 못마땅한데… 함께 있다면, 새로 시작할 수 있다는 희망으로 하루하루 뿌리 내리며 살아가는 어느 가족의 아주 특별한 여정이 시작된다!\"\"\"\n",
    "\n",
    "req_sum = {\"text\": text, \n",
    "           \"start\": \"\\n한줄요약\",\n",
    "          \"stopBefore\": [\"###\\n\", \"줄거리:\", \"한줄요약:\"],\n",
    "          \"restart\": [\"\\n###\", \"\\n줄거리:\"], \n",
    "          \"maxToken\": 150}\n",
    "req_sum = make_content(request_data, req_sum)"
   ]
  },
  {
   "cell_type": "code",
   "execution_count": 37,
   "id": "6c88d714",
   "metadata": {},
   "outputs": [],
   "source": [
    "sum_req = naver.execute(req_sum)"
   ]
  },
  {
   "cell_type": "code",
   "execution_count": 38,
   "id": "48ff71f5",
   "metadata": {},
   "outputs": [
    {
     "data": {
      "text/plain": [
       "'줄거리: \"미나리는 어디서든 잘 자라\" 낯선 미국, 아칸소로 떠나온 한국 가족. 가족들에게 뭔가 해내는 걸 보여주고 싶은 아빠 \\'제이콥\\'(스티븐 연)은 자신만의 농장을 가꾸기 시작하고 엄마 \\'모니카\\'(한예리)도 다시 일자리를 찾는다. 아직 어린 아이들을 위해 ‘모니카’의 엄마 ‘순자’(윤여정)가 함께 살기로 하고 가방 가득 고춧가루, 멸치, 한약 그리고 미나리씨를 담은 할머니가 도착한다. 의젓한 큰딸 \\'앤\\'(노엘 케이트 조)과 장난꾸러기 막내아들 \\'데이빗\\'(앨런 김)은 여느 그랜마같지 않은 할머니가 영- 못마땅한데… 함께 있다면, 새로 시작할 수 있다는 희망으로 하루하루 뿌리 내리며 살아가는 어느 가족의 아주 특별한 여정이 시작된다!\\n한줄요약: 잔잔하게 흘러가는 영화지만 가슴에 와닿는 대사들이 많다.\\n영화 <미나리> 후기\\n<미나리>는 1980년대 아메리칸드림을 꿈꾸며'"
      ]
     },
     "execution_count": 38,
     "metadata": {},
     "output_type": "execute_result"
    }
   ],
   "source": [
    "sum_req[\"result\"][\"text\"]"
   ]
  },
  {
   "cell_type": "code",
   "execution_count": null,
   "id": "4fe689a7",
   "metadata": {},
   "outputs": [],
   "source": []
  }
 ],
 "metadata": {
  "kernelspec": {
   "display_name": "Python 3 (ipykernel)",
   "language": "python",
   "name": "python3"
  },
  "language_info": {
   "codemirror_mode": {
    "name": "ipython",
    "version": 3
   },
   "file_extension": ".py",
   "mimetype": "text/x-python",
   "name": "python",
   "nbconvert_exporter": "python",
   "pygments_lexer": "ipython3",
   "version": "3.8.11"
  }
 },
 "nbformat": 4,
 "nbformat_minor": 5
}
